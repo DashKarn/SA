{
 "cells": [
  {
   "cell_type": "code",
   "execution_count": 1,
   "metadata": {
    "collapsed": true
   },
   "outputs": [],
   "source": [
    "import numpy\n",
    "import pandas\n",
    "import matplotlib.pyplot as plt\n",
    "%matplotlib inline"
   ]
  },
  {
   "cell_type": "code",
   "execution_count": 2,
   "metadata": {
    "collapsed": true
   },
   "outputs": [],
   "source": [
    "df = pandas.read_csv('d:/wine.txt')\n",
    "alcohol = df[' Alcohol']\n",
    "color_intensity = df[' Color intensity']"
   ]
  },
  {
   "cell_type": "code",
   "execution_count": 5,
   "metadata": {},
   "outputs": [
    {
     "data": {
      "image/png": "[encoded data removed]",
      "text/plain": [
       "<matplotlib.figure.Figure at 0x1ea2c1a9080>"
      ]
     },
     "metadata": {},
     "output_type": "display_data"
    }
   ],
   "source": [
    "plt.scatter(alcohol, color_intensity)\n",
    "plt.show()"
   ]
  },
  {
   "cell_type": "code",
   "execution_count": 4,
   "metadata": {},
   "outputs": [
    {
     "data": {
      "image/png": "[encoded data removed]",
      "text/plain": [
       "<matplotlib.figure.Figure at 0x1994ee3fcf8>"
      ]
     },
     "metadata": {},
     "output_type": "display_data"
    }
   ],
   "source": [
    "f, (ax1, ax2, ax3) = plt.subplots(1, 3, sharey=True, sharex=True)\n",
    "ax1.hist(alcohol)\n",
    "ax1.title.set_text('Alcohol')\n",
    "ax2.hist(color_intensity)\n",
    "ax2.title.set_text('Color intensity')\n",
    "ax3.hist(alcohol - color_intensity)\n",
    "ax3.title.set_text('Alcohol - \\nColor intensity')"
   ]
  },
  {
   "cell_type": "code",
   "execution_count": 9,
   "metadata": {
    "collapsed": true
   },
   "outputs": [],
   "source": [
    "# a = 0.05 amount = 177 =>\n",
    "# Student's coef from table (alpha/2; amount -1 ):\n",
    "t = 1.1541585\n",
    "\n",
    "\n",
    "def count_confidence_interval_of_math_exp(amount, estimate):\n",
    "    return t*numpy.sqrt(estimate/len(amount))\n",
    "\n",
    "\n",
    "def count_confidence_interval_of_variance(amount, estimate, x_func):\n",
    "    return estimate*(len(amount)-1)/x_func\n",
    "\n",
    "\n",
    "def check_hypothesis_with_known_var(math_exp_x, math_exp_y, var_x, var_y, amount_x, amount_y):\n",
    "    return numpy.abs(math_exp_x - math_exp_y) / numpy.sqrt((var_x / len(amount_x)) + (var_y / len(amount_y)))\n",
    "\n",
    "\n",
    "def check_hypothesis_with_unknown_var(math_exp_x, math_exp_y, unbiased_var_x, unbiased_var_y, amount_x, amount_y,):\n",
    "    return (numpy.abs(math_exp_x-math_exp_y))/((len(amount_x)-1)*unbiased_var_x + (len(amount_y) - 1) * unbiased_var_y)*\\\n",
    "           numpy.sqrt(((len(amount_x)*len(amount_y))*(len(amount_x)+len(amount_y)-2))/(len(amount_x)+len(amount_y)))"
   ]
  },
  {
   "cell_type": "code",
   "execution_count": 12,
   "metadata": {},
   "outputs": [
    {
     "name": "stdout",
     "output_type": "stream",
     "text": [
      "\n",
      "Math expectation of alcohol =  13.0006\n",
      "Math expectation of color intensity =  5.0581 \n",
      "\n",
      "Variance of alcohol =  0.6591\n",
      "Variance of color intensity =  5.3744 \n",
      "\n",
      "Unbiased variance estimate of alcohol =  1 4\n",
      "Unbiased variance estimate of color intensity =  5.3744 \n",
      "\n",
      "Confidence interval of math expectation in alcohol: 12.9304 < m(x) < 13.0708\n",
      "Confidence interval of math expectation in color intensity: 4.8575 < m(x) < 5.0 \n",
      "\n",
      "Confidence interval of variance in alcohol: 0.1155 < D(x) < 1\n",
      "Confidence interval of variance in color intensity: 0.9422 < D(x) < 12 \n",
      "\n",
      "With known variance: H1 accepted, because Student's coef from table 0.1736 < 43.1404 observable coef\n",
      "With unknown variance: H0 accepted, because Student's coef from table 1.64 > 1.3201156 observable coef\n"
     ]
    }
   ],
   "source": [
    "math_expectation_of_alcohol = alcohol.mean()\n",
    "math_expectation_of_color_intensity = color_intensity.mean()\n",
    "\n",
    "variance_of_alcohol = alcohol.var()\n",
    "variance_of_color_intensity = color_intensity.var()\n",
    "\n",
    "unbiased_variance_estimate_of_alcohol = alcohol.var(ddof=1)\n",
    "unbiased_variance_estimate_of_color_intensity = color_intensity.var(ddof=1)\n",
    "\n",
    "print('\\nMath expectation of alcohol = ', round(math_expectation_of_alcohol, 4))\n",
    "print('Math expectation of color intensity = ', round(math_expectation_of_color_intensity, 4), '\\n')\n",
    "\n",
    "print('Variance of alcohol = ', round(variance_of_alcohol, 4))\n",
    "print('Variance of color intensity = ', round(variance_of_color_intensity, 4), '\\n')\n",
    "\n",
    "print('Unbiased variance estimate of alcohol = ', round(unbiased_variance_estimate_of_alcohol), 4)\n",
    "print('Unbiased variance estimate of color intensity = ', round(unbiased_variance_estimate_of_color_intensity, 4), '\\n')\n",
    "\n",
    "print('Confidence interval of math expectation in alcohol: {} < m(x) < {}'.format(\n",
    "      round(math_expectation_of_alcohol - count_confidence_interval_of_math_exp(\n",
    "          alcohol, unbiased_variance_estimate_of_alcohol), 4),\n",
    "      round(math_expectation_of_alcohol + count_confidence_interval_of_math_exp(\n",
    "          alcohol, unbiased_variance_estimate_of_alcohol), 4)))\n",
    "\n",
    "print('Confidence interval of math expectation in color intensity: {} < m(x) < {}'.format(\n",
    "      round(math_expectation_of_color_intensity - count_confidence_interval_of_math_exp(\n",
    "          color_intensity, unbiased_variance_estimate_of_color_intensity), 4),\n",
    "      round(math_expectation_of_color_intensity + count_confidence_interval_of_math_exp(\n",
    "          color_intensity, unbiased_variance_estimate_of_color_intensity)), 4), '\\n')\n",
    "\n",
    "# x^2[a/2, n-1]:\n",
    "x_1 = 214.6284\n",
    "# x^2[1 - a/2, n-1]:\n",
    "x_2 = 141.1571\n",
    "print('Confidence interval of variance in alcohol: {} < D(x) < {}'.format(\n",
    "      round(variance_of_alcohol - count_confidence_interval_of_variance(alcohol,\n",
    "                                                                        unbiased_variance_estimate_of_alcohol, x_1), 4),\n",
    "      round(variance_of_alcohol + count_confidence_interval_of_variance(alcohol,\n",
    "                                                                        unbiased_variance_estimate_of_alcohol, x_2)), 4))\n",
    "\n",
    "print('Confidence interval of variance in color intensity: {} < D(x) < {}'.format(\n",
    "      round(variance_of_color_intensity - count_confidence_interval_of_variance(\n",
    "          color_intensity, unbiased_variance_estimate_of_color_intensity, x_1), 4),\n",
    "      round(variance_of_color_intensity + count_confidence_interval_of_variance(\n",
    "          color_intensity, unbiased_variance_estimate_of_color_intensity, x_2)), 4), '\\n')\n",
    "\n",
    "# Hypothesis with known variance:\n",
    "\n",
    "# a = 0.05 =>\n",
    "# Laplas' function [(1-2a)/2 = 0.45] = 0,1736\n",
    "laplas_function = 0.1736\n",
    "observable_variable = round(check_hypothesis_with_known_var(math_expectation_of_alcohol,\n",
    "                                                            math_expectation_of_color_intensity,\n",
    "                                                            variance_of_alcohol,\n",
    "                                                            variance_of_color_intensity,\n",
    "                                                            alcohol, color_intensity), 4)\n",
    "if laplas_function == observable_variable:\n",
    "    print(\"With known variance: H0 accepted, because Student's coef from table {} == {} observable coef\".\n",
    "          format(laplas_function, observable_variable))\n",
    "if laplas_function < observable_variable:\n",
    "    print(\"With known variance: H1 accepted, because Student's coef from table {} < {} observable coef\".\n",
    "          format(laplas_function, observable_variable))\n",
    "else:\n",
    "    print(\"With known variance: H0 accepted, because Student's coef from table {} > {} observable coef\".\n",
    "          format(laplas_function, observable_variable))\n",
    "\n",
    "# Hypothesis with known variance:\n",
    "\n",
    "# number = 177 + 177 - 2 = 352, a = 0.05 =>\n",
    "# Student's coef:\n",
    "t_352 = 1.64\n",
    "observable_variable = round(check_hypothesis_with_unknown_var(math_expectation_of_alcohol,\n",
    "                                                              math_expectation_of_color_intensity,\n",
    "                                                              unbiased_variance_estimate_of_alcohol,\n",
    "                                                              unbiased_variance_estimate_of_color_intensity,\n",
    "                                                              alcohol, color_intensity), 7)\n",
    "if t_352 == observable_variable:\n",
    "    print(\"With unknown variance: H0 accepted, because Student's coef from table {} == {} observable coef\".\n",
    "          format(t_352, observable_variable))\n",
    "if t_352 > observable_variable:\n",
    "    print(\"With unknown variance: H0 accepted, because Student's coef from table {} > {} observable coef\".\n",
    "          format(t_352, observable_variable))\n",
    "else:\n",
    "    print(\"With unknown variance: H1 accepted, because Student's coef from table {} < {} observable coef\".\n",
    "          format(t_352, observable_variable))\n"
   ]
  },
  {
   "cell_type": "code",
   "execution_count": null,
   "metadata": {
    "collapsed": true
   },
   "outputs": [],
   "source": []
  },
  {
   "cell_type": "code",
   "execution_count": 4,
   "metadata": {
    "collapsed": true
   },
   "outputs": [],
   "source": []
  },
  {
   "cell_type": "code",
   "execution_count": 5,
   "metadata": {
    "collapsed": true
   },
   "outputs": [],
   "source": []
  },
  {
   "cell_type": "code",
   "execution_count": 6,
   "metadata": {
    "collapsed": true
   },
   "outputs": [],
   "source": []
  }
 ],
 "metadata": {
  "kernelspec": {
   "display_name": "Python 3",
   "language": "python",
   "name": "python3"
  },
  "language_info": {
   "codemirror_mode": {
    "name": "ipython",
    "version": 3
   },
   "file_extension": ".py",
   "mimetype": "text/x-python",
   "name": "python",
   "nbconvert_exporter": "python",
   "pygments_lexer": "ipython3",
   "version": "3.6.8"
  }
 },
 "nbformat": 4,
 "nbformat_minor": 2
}
